{
 "cells": [
  {
   "cell_type": "markdown",
   "id": "228b4f30",
   "metadata": {},
   "source": [
    "31218_정윤호_0502_34"
   ]
  },
  {
   "cell_type": "markdown",
   "id": "43101d48",
   "metadata": {},
   "source": [
    "# 4. 딕셔너리와 제어구조\n",
    "\n",
    "```\n",
    "# 다섯 명의 중간고사 점수를 저장한 딕셔너리\n",
    "midterm = {'도유': 43, '하윤': 82, '시우':76,'지유': 61, '주원':96}\n",
    "```"
   ]
  },
  {
   "cell_type": "code",
   "execution_count": 3,
   "id": "9591329d",
   "metadata": {},
   "outputs": [],
   "source": [
    "midterm = {'도유': 43, '하윤': 82, '시우':76,'지유': 61, '주원':96}"
   ]
  },
  {
   "cell_type": "code",
   "execution_count": 5,
   "id": "a276644c",
   "metadata": {},
   "outputs": [
    {
     "name": "stdout",
     "output_type": "stream",
     "text": [
      "어떤 학생의 점수가 궁금한가요?도운\n",
      "해당 학생이 없습니다.\n"
     ]
    }
   ],
   "source": [
    "# 학생 이름을 입력받아, 딕셔너리에 학생 이름이 있으면 점수를 출력\n",
    "# 없다면 '해당 학생이 없습니다.' 출력하기\n",
    "\n",
    "s = input('어떤 학생의 점수가 궁금한가요?')\n",
    "\n",
    "if s in midterm.keys() :\n",
    "    print(f'{midterm[s]}점 입니다.')\n",
    "else :\n",
    "    print(f'해당 학생이 없습니다.')"
   ]
  },
  {
   "cell_type": "code",
   "execution_count": 10,
   "id": "70815f84",
   "metadata": {},
   "outputs": [
    {
     "name": "stdout",
     "output_type": "stream",
     "text": [
      "도유\n",
      "하윤\n",
      "시우\n",
      "지유\n",
      "주원\n"
     ]
    }
   ],
   "source": [
    "# 딕셔너리에 저장된 모든 학생의 이름 출력하기\n",
    "\n",
    "for i in midterm.keys() :\n",
    "    print(f'{i}')"
   ]
  },
  {
   "cell_type": "code",
   "execution_count": 11,
   "id": "2ee9a59a",
   "metadata": {},
   "outputs": [
    {
     "name": "stdout",
     "output_type": "stream",
     "text": [
      " 43\n",
      " 82\n",
      " 76\n",
      " 61\n",
      " 96\n"
     ]
    }
   ],
   "source": [
    "for i in midterm.values():\n",
    "    print(f' {i}')"
   ]
  },
  {
   "cell_type": "code",
   "execution_count": 12,
   "id": "61f896c3",
   "metadata": {},
   "outputs": [
    {
     "name": "stdout",
     "output_type": "stream",
     "text": [
      "('도유', 43)\n",
      "('하윤', 82)\n",
      "('시우', 76)\n",
      "('지유', 61)\n",
      "('주원', 96)\n"
     ]
    }
   ],
   "source": [
    "# 딕셔너리에 저장된 모든 학생과 점수를 같이 출력하기\n",
    "\n",
    "for i in midterm.items() :\n",
    "    print(f'{i}')"
   ]
  },
  {
   "cell_type": "code",
   "execution_count": 17,
   "id": "0357db6a",
   "metadata": {},
   "outputs": [
    {
     "name": "stdout",
     "output_type": "stream",
     "text": [
      "도유의 점수는 43입니다.\n",
      "하윤의 점수는 82입니다.\n",
      "시우의 점수는 76입니다.\n",
      "지유의 점수는 61입니다.\n",
      "주원의 점수는 96입니다.\n"
     ]
    }
   ],
   "source": [
    "#  도윤의 점수는 43점입니다.\n",
    "for i,j in midterm.items() :\n",
    "  print(f'{i}의 점수는 {j}입니다.')"
   ]
  },
  {
   "cell_type": "markdown",
   "id": "dc1b5b4c",
   "metadata": {},
   "source": [
    "## 딕셔너리명 = {키1:값1,2값:갑2,...,}\n",
    "* 증괄호 안에 키:값의 쌍으로 된 황목을 코마(,)로 구분하여 적어준다.\n",
    "|메뉴|가격|\n",
    "|----|----|\n",
    "|김밥|2000|\n",
    "|떡볶기|2500|\n",
    "|어묵|2000|\n",
    "|튀김|3000|"
   ]
  },
  {
   "cell_type": "code",
   "execution_count": 21,
   "id": "0942c90e",
   "metadata": {},
   "outputs": [
    {
     "data": {
      "text/plain": [
       "{'깁밥': 2000, '떡볶이': 2500, '어묵': 2000, '튀김': 3000}"
      ]
     },
     "execution_count": 21,
     "metadata": {},
     "output_type": "execute_result"
    }
   ],
   "source": [
    "menu = {'깁밥' : 2000, '떡볶이':2500, '어묵':2000, '튀김':3000}\n",
    "menu"
   ]
  },
  {
   "cell_type": "markdown",
   "id": "2c9900ec",
   "metadata": {},
   "source": [
    "## dict로 딕셔너리 만들기\n",
    "* 딕셔너리명 + dict(키1=값1, 키2=갑2,...,)\n",
    "* 키에 따옴표('')쓰지 않는다는 점에 주의한다.\n",
    "* 키에 따옴표('')를 쓰지 않아도 딕셔너리가 생성되면서 자동으로 문자열형으로 지정된다.\n"
   ]
  },
  {
   "cell_type": "code",
   "execution_count": 20,
   "id": "25d71214",
   "metadata": {},
   "outputs": [
    {
     "data": {
      "text/plain": [
       "{'깁밥': 2000, '떡볶이': 2500, '어묵': 2000, '튀김': 3000}"
      ]
     },
     "execution_count": 20,
     "metadata": {},
     "output_type": "execute_result"
    }
   ],
   "source": [
    "menu1 = dict(깁밥=2000, 떡볶이=2500, 어묵=2000, 튀김=3000)\n",
    "menu1"
   ]
  },
  {
   "cell_type": "markdown",
   "id": "339cc8dc",
   "metadata": {},
   "source": [
    "## 딕셔너리 리스트를 이용한 선언\n",
    "* 딕셔너리 명 = dict(zip(key리스트, value리스트))"
   ]
  },
  {
   "cell_type": "code",
   "execution_count": 24,
   "id": "27017a27",
   "metadata": {},
   "outputs": [
    {
     "data": {
      "text/plain": [
       "{'김밥': 2000, '떡볶이': 2500, '튀김': 2000}"
      ]
     },
     "execution_count": 24,
     "metadata": {},
     "output_type": "execute_result"
    }
   ],
   "source": [
    "key_list = ['김밥','떡볶이','튀김']\n",
    "value_list = [2000,2500,2000,3000]\n",
    "\n",
    "menu3 = dict(zip(key_list, value_list))\n",
    "menu3"
   ]
  },
  {
   "cell_type": "markdown",
   "id": "9181710b",
   "metadata": {},
   "source": [
    "* 딕셔너리명 = dict(키1,값1),(키1,값2),...,])"
   ]
  },
  {
   "cell_type": "code",
   "execution_count": 25,
   "id": "226c54c1",
   "metadata": {},
   "outputs": [
    {
     "data": {
      "text/plain": [
       "{'깁밥': 2000, '떡볶이': 2500, '어묵': 2000, '튀김': 3000}"
      ]
     },
     "execution_count": 25,
     "metadata": {},
     "output_type": "execute_result"
    }
   ],
   "source": [
    "menu4 = dict(깁밥=2000, 떡볶이=2500, 어묵=2000, 튀김=3000)\n",
    "menu4"
   ]
  },
  {
   "cell_type": "markdown",
   "id": "a43b95ee",
   "metadata": {},
   "source": [
    "## 딕셔너리에 사용할 수 있는 자료형\n",
    "* 딕셔너리의 value에는 모든 자료형을 혼합하여 사용할 수 있다."
   ]
  },
  {
   "cell_type": "code",
   "execution_count": 41,
   "id": "822dc63e",
   "metadata": {},
   "outputs": [
    {
     "data": {
      "text/plain": [
       "{'name': 'james', '나이': 25, '키': 173.4, '시력': (1.0, 1.0), '취미': ['운동', '독서']}"
      ]
     },
     "execution_count": 41,
     "metadata": {},
     "output_type": "execute_result"
    }
   ],
   "source": [
    "person = {'name':'james',\n",
    "'나이':25,\n",
    "'키':173.4,\n",
    "'시력':(1.0,1.0),\n",
    "'취미':['운동','독서']}\n",
    "person"
   ]
  },
  {
   "cell_type": "code",
   "execution_count": 42,
   "id": "2db3a87c",
   "metadata": {},
   "outputs": [
    {
     "data": {
      "text/plain": [
       "25"
      ]
     },
     "execution_count": 42,
     "metadata": {},
     "output_type": "execute_result"
    }
   ],
   "source": [
    "person['나이']"
   ]
  },
  {
   "cell_type": "code",
   "execution_count": 47,
   "id": "18545ea6",
   "metadata": {},
   "outputs": [
    {
     "ename": "KeyError",
     "evalue": "'몸무게'",
     "output_type": "error",
     "traceback": [
      "\u001b[1;31m---------------------------------------------------------------------------\u001b[0m",
      "\u001b[1;31mKeyError\u001b[0m                                  Traceback (most recent call last)",
      "\u001b[1;32m~\\AppData\\Local\\Temp/ipykernel_1780/3041137338.py\u001b[0m in \u001b[0;36m<module>\u001b[1;34m\u001b[0m\n\u001b[1;32m----> 1\u001b[1;33m \u001b[0mperson\u001b[0m\u001b[1;33m[\u001b[0m\u001b[1;34m'몸무게'\u001b[0m\u001b[1;33m]\u001b[0m\u001b[1;33m\u001b[0m\u001b[1;33m\u001b[0m\u001b[0m\n\u001b[0m",
      "\u001b[1;31mKeyError\u001b[0m: '몸무게'"
     ]
    }
   ],
   "source": [
    "person['몸무게']"
   ]
  },
  {
   "cell_type": "code",
   "execution_count": 51,
   "id": "3af23364",
   "metadata": {},
   "outputs": [
    {
     "ename": "SyntaxError",
     "evalue": "f-string: unmatched '[' (Temp/ipykernel_1780/361577738.py, line 2)",
     "output_type": "error",
     "traceback": [
      "\u001b[1;36m  File \u001b[1;32m\"C:\\Users\\user\\AppData\\Local\\Temp/ipykernel_1780/361577738.py\"\u001b[1;36m, line \u001b[1;32m2\u001b[0m\n\u001b[1;33m    print(f'{person['몸무게']}')\u001b[0m\n\u001b[1;37m                     ^\u001b[0m\n\u001b[1;31mSyntaxError\u001b[0m\u001b[1;31m:\u001b[0m f-string: unmatched '['\n"
     ]
    }
   ],
   "source": [
    "if '몸무게' in person :\n",
    "    print(f'{person['몸무게']}')\n",
    "else :\n",
    "        print(f'존재하지 않음')"
   ]
  },
  {
   "cell_type": "markdown",
   "id": "1547601a",
   "metadata": {},
   "source": [
    "## 딕셔너리명.get(key, msg)\n",
    "* 존재하지 않는 key로 추출 시도해도 오류가 발생하지 않는다.\n",
    "* 존재하지 않는 key로 추출 시도할 경우 출력할 메시지를 설정할 수 있다."
   ]
  },
  {
   "cell_type": "code",
   "execution_count": 49,
   "id": "31354060",
   "metadata": {},
   "outputs": [
    {
     "data": {
      "text/plain": [
       "25"
      ]
     },
     "execution_count": 49,
     "metadata": {},
     "output_type": "execute_result"
    }
   ],
   "source": [
    "person.get('나이')"
   ]
  },
  {
   "cell_type": "code",
   "execution_count": 50,
   "id": "df69fd78",
   "metadata": {},
   "outputs": [
    {
     "data": {
      "text/plain": [
       "'존재하지 않음'"
      ]
     },
     "execution_count": 50,
     "metadata": {},
     "output_type": "execute_result"
    }
   ],
   "source": [
    "person.get('몸무게','존재하지 않음')"
   ]
  },
  {
   "cell_type": "code",
   "execution_count": null,
   "id": "87a63d8e",
   "metadata": {},
   "outputs": [],
   "source": []
  }
 ],
 "metadata": {
  "kernelspec": {
   "display_name": "Python 3 (ipykernel)",
   "language": "python",
   "name": "python3"
  },
  "language_info": {
   "codemirror_mode": {
    "name": "ipython",
    "version": 3
   },
   "file_extension": ".py",
   "mimetype": "text/x-python",
   "name": "python",
   "nbconvert_exporter": "python",
   "pygments_lexer": "ipython3",
   "version": "3.9.7"
  }
 },
 "nbformat": 4,
 "nbformat_minor": 5
}
